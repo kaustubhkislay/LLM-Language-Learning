{
 "cells": [
  {
   "cell_type": "code",
   "execution_count": 28,
   "metadata": {},
   "outputs": [
    {
     "name": "stdout",
     "output_type": "stream",
     "text": [
      "Cloning into 'lang2vec'...\n",
      "remote: Enumerating objects: 140, done.\u001b[K\n",
      "remote: Total 140 (delta 0), reused 0 (delta 0), pack-reused 140 (from 1)\u001b[K\n",
      "Receiving objects: 100% (140/140), 71.38 MiB | 7.04 MiB/s, done.\n",
      "Resolving deltas: 100% (80/80), done.\n",
      "/Users/kaustubhkislay/LLM-Language-Learning/notebooks/lang2vec\n"
     ]
    },
    {
     "name": "stderr",
     "output_type": "stream",
     "text": [
      "/Users/kaustubhkislay/miniconda3/envs/llmlearn/lib/python3.10/site-packages/IPython/core/magics/osm.py:417: UserWarning: This is now an optional IPython functionality, setting dhist requires you to install the `pickleshare` library.\n",
      "  self.shell.db['dhist'] = compress_dhist(dhist)[-100:]\n"
     ]
    },
    {
     "name": "stdout",
     "output_type": "stream",
     "text": [
      "running install\n",
      "/Users/kaustubhkislay/miniconda3/envs/llmlearn/lib/python3.10/site-packages/setuptools/_distutils/cmd.py:90: SetuptoolsDeprecationWarning: setup.py install is deprecated.\n",
      "!!\n",
      "\n",
      "        ********************************************************************************\n",
      "        Please avoid running ``setup.py`` directly.\n",
      "        Instead, use pypa/build, pypa/installer or other\n",
      "        standards-based tools.\n",
      "\n",
      "        By 2025-Oct-31, you need to update your project and remove deprecated calls\n",
      "        or your builds will no longer be supported.\n",
      "\n",
      "        See https://blog.ganssle.io/articles/2021/10/setup-py-deprecated.html for details.\n",
      "        ********************************************************************************\n",
      "\n",
      "!!\n",
      "  self.initialize_options()\n",
      "running build\n",
      "running build_py\n",
      "creating build/lib/lang2vec\n",
      "copying lang2vec/__init__.py -> build/lib/lang2vec\n",
      "copying lang2vec/lang2vec.py -> build/lib/lang2vec\n",
      "creating build/lib/lang2vec/data\n",
      "copying lang2vec/data/feature_averages.npz -> build/lib/lang2vec/data\n",
      "copying lang2vec/data/features.npz -> build/lib/lang2vec/data\n",
      "copying lang2vec/data/family_features.npz -> build/lib/lang2vec/data\n",
      "copying lang2vec/data/feature_predictions.npz -> build/lib/lang2vec/data\n",
      "copying lang2vec/data/geocoord_features.npz -> build/lib/lang2vec/data\n",
      "copying lang2vec/data/letter_codes.json -> build/lib/lang2vec/data\n",
      "copying lang2vec/data/distances2.zip -> build/lib/lang2vec/data\n",
      "copying lang2vec/data/learned.npy -> build/lib/lang2vec/data\n",
      "copying lang2vec/data/distances_languages.txt -> build/lib/lang2vec/data\n",
      "running build_scripts\n",
      "creating build/scripts-3.10\n",
      "copying and adjusting lang2vec/lang2vec.py -> build/scripts-3.10\n",
      "changing mode of build/scripts-3.10/lang2vec.py from 644 to 755\n",
      "running install_lib\n",
      "copying build/lib/lang2vec/__init__.py -> /Users/kaustubhkislay/miniconda3/envs/llmlearn/lib/python3.10/site-packages/lang2vec\n",
      "copying build/lib/lang2vec/data/feature_averages.npz -> /Users/kaustubhkislay/miniconda3/envs/llmlearn/lib/python3.10/site-packages/lang2vec/data\n",
      "copying build/lib/lang2vec/data/distances_languages.txt -> /Users/kaustubhkislay/miniconda3/envs/llmlearn/lib/python3.10/site-packages/lang2vec/data\n",
      "copying build/lib/lang2vec/data/features.npz -> /Users/kaustubhkislay/miniconda3/envs/llmlearn/lib/python3.10/site-packages/lang2vec/data\n",
      "copying build/lib/lang2vec/data/letter_codes.json -> /Users/kaustubhkislay/miniconda3/envs/llmlearn/lib/python3.10/site-packages/lang2vec/data\n",
      "copying build/lib/lang2vec/data/family_features.npz -> /Users/kaustubhkislay/miniconda3/envs/llmlearn/lib/python3.10/site-packages/lang2vec/data\n",
      "copying build/lib/lang2vec/data/learned.npy -> /Users/kaustubhkislay/miniconda3/envs/llmlearn/lib/python3.10/site-packages/lang2vec/data\n",
      "copying build/lib/lang2vec/data/feature_predictions.npz -> /Users/kaustubhkislay/miniconda3/envs/llmlearn/lib/python3.10/site-packages/lang2vec/data\n",
      "copying build/lib/lang2vec/data/geocoord_features.npz -> /Users/kaustubhkislay/miniconda3/envs/llmlearn/lib/python3.10/site-packages/lang2vec/data\n",
      "copying build/lib/lang2vec/data/distances2.zip -> /Users/kaustubhkislay/miniconda3/envs/llmlearn/lib/python3.10/site-packages/lang2vec/data\n",
      "copying build/lib/lang2vec/lang2vec.py -> /Users/kaustubhkislay/miniconda3/envs/llmlearn/lib/python3.10/site-packages/lang2vec\n",
      "byte-compiling /Users/kaustubhkislay/miniconda3/envs/llmlearn/lib/python3.10/site-packages/lang2vec/__init__.py to __init__.cpython-310.pyc\n",
      "byte-compiling /Users/kaustubhkislay/miniconda3/envs/llmlearn/lib/python3.10/site-packages/lang2vec/lang2vec.py to lang2vec.cpython-310.pyc\n",
      "running install_egg_info\n",
      "running egg_info\n",
      "creating lang2vec.egg-info\n",
      "writing lang2vec.egg-info/PKG-INFO\n",
      "writing dependency_links to lang2vec.egg-info/dependency_links.txt\n",
      "writing requirements to lang2vec.egg-info/requires.txt\n",
      "writing top-level names to lang2vec.egg-info/top_level.txt\n",
      "writing manifest file 'lang2vec.egg-info/SOURCES.txt'\n",
      "reading manifest file 'lang2vec.egg-info/SOURCES.txt'\n",
      "adding license file 'LICENSE.txt'\n",
      "writing manifest file 'lang2vec.egg-info/SOURCES.txt'\n",
      "removing '/Users/kaustubhkislay/miniconda3/envs/llmlearn/lib/python3.10/site-packages/lang2vec-1.1.6-py3.10.egg-info' (and everything under it)\n",
      "Copying lang2vec.egg-info to /Users/kaustubhkislay/miniconda3/envs/llmlearn/lib/python3.10/site-packages/lang2vec-1.1.6-py3.10.egg-info\n",
      "running install_scripts\n",
      "copying build/scripts-3.10/lang2vec.py -> /Users/kaustubhkislay/miniconda3/envs/llmlearn/bin\n",
      "changing mode of /Users/kaustubhkislay/miniconda3/envs/llmlearn/bin/lang2vec.py to 755\n"
     ]
    }
   ],
   "source": [
    "!git clone https://github.com/antonisa/lang2vec\n",
    "%cd lang2vec\n",
    "!python3 setup.py install"
   ]
  },
  {
   "cell_type": "code",
   "execution_count": 3,
   "metadata": {},
   "outputs": [],
   "source": [
    "import numpy as np\n",
    "import pandas as pd\n",
    "from scipy.spatial.distance import cosine as cosdist\n",
    "from sklearn.impute import SimpleImputer\n",
    "from sklearn.preprocessing import StandardScaler"
   ]
  },
  {
   "cell_type": "code",
   "execution_count": 4,
   "metadata": {},
   "outputs": [],
   "source": [
    "import lang2vec.lang2vec as l2v\n"
   ]
  },
  {
   "cell_type": "code",
   "execution_count": 13,
   "metadata": {},
   "outputs": [
    {
     "data": {
      "text/plain": [
       "0.4"
      ]
     },
     "execution_count": 13,
     "metadata": {},
     "output_type": "execute_result"
    }
   ],
   "source": [
    "l2v.syntactic_distance('eng', 'spa')"
   ]
  },
  {
   "cell_type": "code",
   "execution_count": null,
   "metadata": {},
   "outputs": [
    {
     "data": {
      "text/plain": [
       "1.0"
      ]
     },
     "execution_count": 21,
     "metadata": {},
     "output_type": "execute_result"
    }
   ],
   "source": [
    "l2v.syntactic_distance('eng','')\n",
    "l2v.geographic_distance('eng','')\n",
    "l2v.phonological_distance('eng','')\n",
    "l2v.genetic_distance('eng','')\n",
    "l2v.inventory_distance('eng','')\n",
    "l2v.featural_distance('eng','')"
   ]
  },
  {
   "cell_type": "code",
   "execution_count": 26,
   "metadata": {},
   "outputs": [
    {
     "data": {
      "text/plain": [
       "[array([[0.  , 0.66, 0.58],\n",
       "        [0.66, 0.  , 0.67],\n",
       "        [0.58, 0.67, 0.  ]]),\n",
       " array([[0. , 0. , 0.3],\n",
       "        [0. , 0. , 0.3],\n",
       "        [0.3, 0.3, 0. ]])]"
      ]
     },
     "execution_count": 26,
     "metadata": {},
     "output_type": "execute_result"
    }
   ],
   "source": [
    "l2v.distance(['syntactic','geographic'], 'frr', 'dan', 'hin')"
   ]
  },
  {
   "cell_type": "code",
   "execution_count": 30,
   "metadata": {},
   "outputs": [
    {
     "name": "stdout",
     "output_type": "stream",
     "text": [
      "8070 languages available\n",
      "['aap', 'aca', 'acu', 'adc', 'adw', 'agr', 'ake', 'ako', 'alc', 'amc']\n"
     ]
    }
   ],
   "source": [
    "# Example for the genetic distance space\n",
    "df = pd.read_csv(\"/Users/kaustubhkislay/LLM-Language-Learning/notebooks/lang2vec/lang2vec/data/distances/GENETIC.csv\", index_col=0)\n",
    "langs = df.index.tolist()\n",
    "print(len(langs), \"languages available\")\n",
    "print(langs[:10])  # first 10 codes\n"
   ]
  },
  {
   "cell_type": "code",
   "execution_count": 31,
   "metadata": {},
   "outputs": [
    {
     "name": "stdout",
     "output_type": "stream",
     "text": [
      "SYNTACTIC: 8070 languages\n",
      "PHONOLOGICAL: 8070 languages\n",
      "INVENTORY: 8070 languages\n",
      "FEATURAL: 8070 languages\n"
     ]
    }
   ],
   "source": [
    "for space in [\"SYNTACTIC\", \"PHONOLOGICAL\", \"INVENTORY\", \"FEATURAL\"]:\n",
    "    path = f\"/Users/kaustubhkislay/LLM-Language-Learning/notebooks/lang2vec/lang2vec/data/distances/{space}.csv\"\n",
    "    df = pd.read_csv(path, index_col=0)\n",
    "    print(f\"{space}: {len(df)} languages\")\n"
   ]
  },
  {
   "cell_type": "code",
   "execution_count": 32,
   "metadata": {},
   "outputs": [
    {
     "name": "stdout",
     "output_type": "stream",
     "text": [
      "     AverageDistance\n",
      "pap         0.899575\n",
      "mww         0.899575\n",
      "zhb         0.899575\n",
      "otm         0.881825\n",
      "pri         0.879875\n",
      "ots         0.879875\n",
      "cnl         0.879875\n",
      "ott         0.879875\n",
      "hvn         0.872550\n",
      "nki         0.869925\n"
     ]
    }
   ],
   "source": [
    "import pandas as pd\n",
    "import glob\n",
    "\n",
    "# Define spaces to include in the aggregate\n",
    "spaces = [\"SYNTACTIC\", \"PHONOLOGICAL\", \"INVENTORY\", \"FEATURAL\"]\n",
    "\n",
    "# Path to distance data (adjust if your clone is in a different location)\n",
    "base_path = \"/Users/kaustubhkislay/LLM-Language-Learning/notebooks/lang2vec/lang2vec/data/distances\"\n",
    "\n",
    "# Load all distance matrices into a dictionary\n",
    "distances = {}\n",
    "for space in spaces:\n",
    "    path = f\"{base_path}/{space}.csv\"\n",
    "    df = pd.read_csv(path, index_col=0)\n",
    "    distances[space] = df\n",
    "\n",
    "# Target language: English ('eng')\n",
    "target_lang = 'eng'\n",
    "\n",
    "# Compute average distance for each language\n",
    "avg_distances = {}\n",
    "\n",
    "for lang in distances['SYNTACTIC'].columns:\n",
    "    scores = []\n",
    "    for space, df in distances.items():\n",
    "        # Only include if both languages exist in that matrix\n",
    "        if target_lang in df.index and lang in df.columns:\n",
    "            scores.append(df.loc[target_lang, lang])\n",
    "    if len(scores) == len(spaces):  # ensure all spaces are valid\n",
    "        avg_distances[lang] = sum(scores) / len(scores)\n",
    "\n",
    "# Convert to DataFrame and sort by descending average distance\n",
    "results = pd.DataFrame.from_dict(avg_distances, orient='index', columns=['AverageDistance'])\n",
    "results = results.sort_values(by='AverageDistance', ascending=False)\n",
    "\n",
    "# Show top 10 languages most distant from English\n",
    "print(results.head(10))\n"
   ]
  },
  {
   "cell_type": "code",
   "execution_count": 43,
   "metadata": {},
   "outputs": [],
   "source": [
    "high_resource_langs = [\n",
    "    'eng', 'spa', 'fra', 'deu', 'ita', 'por', 'rus', 'zho', 'jpn',\n",
    "    'kor', 'ara', 'hin', 'tur', 'nld', 'pol', 'vie', 'tha', 'ind',\n",
    "    'msa', 'ukr', 'ell', 'ron', 'bul', 'swe', 'fin', 'dan', 'ces'\n",
    "]"
   ]
  },
  {
   "cell_type": "code",
   "execution_count": 49,
   "metadata": {},
   "outputs": [
    {
     "name": "stdout",
     "output_type": "stream",
     "text": [
      "≈0.6: ces (0.597)\n",
      "≈0.5: swe (0.510)\n",
      "≈0.4: deu (0.401)\n"
     ]
    }
   ],
   "source": [
    "import pandas as pd\n",
    "\n",
    "# Assuming `results` is your sorted DataFrame:\n",
    "# Language code as index, \"AverageDistance\" as column.\n",
    "\n",
    "def find_nearest(df, target_value):\n",
    "    \"\"\"Find the row with AverageDistance closest to target_value.\"\"\"\n",
    "    idx = (df['AverageDistance'] - target_value).abs().idxmin()\n",
    "    return idx, df.loc[idx, 'AverageDistance']\n",
    "\n",
    "# Pick the three approximate targets\n",
    "# Filter to high-resource only\n",
    "filtered = results.loc[results.index.isin(high_resource_langs)]\n",
    "\n",
    "# Then pick approximate targets\n",
    "for t in [0.6, 0.5, 0.4]:\n",
    "    lang, dist = find_nearest(filtered, t)\n",
    "    print(f\"≈{t}: {lang} ({dist:.3f})\")"
   ]
  }
 ],
 "metadata": {
  "kernelspec": {
   "display_name": "llmlearn",
   "language": "python",
   "name": "python3"
  },
  "language_info": {
   "codemirror_mode": {
    "name": "ipython",
    "version": 3
   },
   "file_extension": ".py",
   "mimetype": "text/x-python",
   "name": "python",
   "nbconvert_exporter": "python",
   "pygments_lexer": "ipython3",
   "version": "3.10.18"
  }
 },
 "nbformat": 4,
 "nbformat_minor": 2
}
